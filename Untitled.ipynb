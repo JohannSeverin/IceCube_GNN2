{
 "cells": [
  {
   "cell_type": "code",
   "execution_count": 3,
   "metadata": {
    "ExecuteTime": {
     "end_time": "2021-03-14T10:54:35.323409Z",
     "start_time": "2021-03-14T10:54:31.295959Z"
    }
   },
   "outputs": [
    {
     "name": "stdout",
     "output_type": "stream",
     "text": [
      "IPython console for SymPy 1.6.2 (Python 3.8.5-64-bit) (ground types: gmpy)\n",
      "\n",
      "These commands were executed:\n",
      ">>> from __future__ import division\n",
      ">>> from sympy import *\n",
      ">>> x, y, z, t = symbols('x y z t')\n",
      ">>> k, m, n = symbols('k m n', integer=True)\n",
      ">>> f, g, h = symbols('f g h', cls=Function)\n",
      ">>> init_printing()\n",
      "\n",
      "Documentation can be found at https://docs.sympy.org/1.6.2/\n",
      "\n"
     ]
    }
   ],
   "source": [
    "import sympy as sp\n",
    "sp.init_session()\n"
   ]
  },
  {
   "cell_type": "code",
   "execution_count": 4,
   "metadata": {
    "ExecuteTime": {
     "end_time": "2021-03-14T10:54:35.330039Z",
     "start_time": "2021-03-14T10:54:35.326221Z"
    }
   },
   "outputs": [],
   "source": [
    "sigx, sigy, sigz = symbols(\"\\sigma_x, \\sigma_y, \\sigma_z\")"
   ]
  },
  {
   "cell_type": "code",
   "execution_count": 5,
   "metadata": {
    "ExecuteTime": {
     "end_time": "2021-03-14T10:54:35.482735Z",
     "start_time": "2021-03-14T10:54:35.333003Z"
    }
   },
   "outputs": [],
   "source": [
    "rhoxy, rhoxz, rhoyz = symbols(\"p_{xy} p_{xz} p_{yz}\")"
   ]
  },
  {
   "cell_type": "code",
   "execution_count": 6,
   "metadata": {
    "ExecuteTime": {
     "end_time": "2021-03-14T10:54:35.582871Z",
     "start_time": "2021-03-14T10:54:35.485860Z"
    }
   },
   "outputs": [],
   "source": [
    "SIGS = diag(sigx, sigy, sigz)"
   ]
  },
  {
   "cell_type": "code",
   "execution_count": 7,
   "metadata": {
    "ExecuteTime": {
     "end_time": "2021-03-14T10:54:36.172828Z",
     "start_time": "2021-03-14T10:54:35.586097Z"
    }
   },
   "outputs": [
    {
     "data": {
      "text/latex": [
       "$\\displaystyle \\left[\\begin{matrix}\\sigma_x & 0 & 0\\\\0 & \\sigma_y & 0\\\\0 & 0 & \\sigma_z\\end{matrix}\\right]$"
      ],
      "text/plain": [
       "⎡\\sigmaₓ     0         0    ⎤\n",
       "⎢                           ⎥\n",
       "⎢   0     \\sigma_y     0    ⎥\n",
       "⎢                           ⎥\n",
       "⎣   0        0      \\sigma_z⎦"
      ]
     },
     "execution_count": 7,
     "metadata": {},
     "output_type": "execute_result"
    }
   ],
   "source": [
    "SIGS"
   ]
  },
  {
   "cell_type": "code",
   "execution_count": 8,
   "metadata": {
    "ExecuteTime": {
     "end_time": "2021-03-14T10:54:36.178138Z",
     "start_time": "2021-03-14T10:54:36.174484Z"
    }
   },
   "outputs": [],
   "source": [
    "RHOS = Matrix([[1, rhoxy, rhoxz], [rhoxy, 1, rhoyz], [rhoxz, rhoyz, 1]])"
   ]
  },
  {
   "cell_type": "code",
   "execution_count": 11,
   "metadata": {
    "ExecuteTime": {
     "end_time": "2021-03-14T10:54:59.129270Z",
     "start_time": "2021-03-14T10:54:59.106825Z"
    }
   },
   "outputs": [
    {
     "data": {
      "text/latex": [
       "$\\displaystyle \\left[\\begin{matrix}\\sigma_x^{2} & \\sigma_x \\sigma_y p_{xy} & \\sigma_x \\sigma_z p_{xz}\\\\\\sigma_x \\sigma_y p_{xy} & \\sigma_y^{2} & \\sigma_y \\sigma_z p_{yz}\\\\\\sigma_x \\sigma_z p_{xz} & \\sigma_y \\sigma_z p_{yz} & \\sigma_z^{2}\\end{matrix}\\right]$"
      ],
      "text/plain": [
       "⎡              2                                                            ⎤\n",
       "⎢       \\sigmaₓ           \\sigmaₓ⋅\\sigma_y⋅p_{xy}   \\sigmaₓ⋅\\sigma_z⋅p_{xz} ⎥\n",
       "⎢                                                                           ⎥\n",
       "⎢                                        2                                  ⎥\n",
       "⎢\\sigmaₓ⋅\\sigma_y⋅p_{xy}         \\sigma_y           \\sigma_y⋅\\sigma_z⋅p_{yz}⎥\n",
       "⎢                                                                           ⎥\n",
       "⎢                                                                  2        ⎥\n",
       "⎣\\sigmaₓ⋅\\sigma_z⋅p_{xz}  \\sigma_y⋅\\sigma_z⋅p_{yz}         \\sigma_z         ⎦"
      ]
     },
     "execution_count": 11,
     "metadata": {},
     "output_type": "execute_result"
    }
   ],
   "source": [
    "SIGS @ RHOS @ SIGS"
   ]
  },
  {
   "cell_type": "code",
   "execution_count": 12,
   "metadata": {
    "ExecuteTime": {
     "end_time": "2021-03-14T10:55:03.382258Z",
     "start_time": "2021-03-14T10:55:03.279942Z"
    }
   },
   "outputs": [
    {
     "data": {
      "image/png": "[encoded data removed]",
      "text/latex": [
       "$\\displaystyle - \\sigma_x^{2} \\sigma_y^{2} \\sigma_z^{2} p_{xy}^{2} + 2 \\sigma_x^{2} \\sigma_y^{2} \\sigma_z^{2} p_{xy} p_{xz} p_{yz} - \\sigma_x^{2} \\sigma_y^{2} \\sigma_z^{2} p_{xz}^{2} - \\sigma_x^{2} \\sigma_y^{2} \\sigma_z^{2} p_{yz}^{2} + \\sigma_x^{2} \\sigma_y^{2} \\sigma_z^{2}$"
      ],
      "text/plain": [
       "         2         2         2       2            2         2         2       \n",
       "- \\sigmaₓ ⋅\\sigma_y ⋅\\sigma_z ⋅p_{xy}  + 2⋅\\sigmaₓ ⋅\\sigma_y ⋅\\sigma_z ⋅p_{xy}\n",
       "\n",
       "                        2         2         2       2          2         2    \n",
       "⋅p_{xz}⋅p_{yz} - \\sigmaₓ ⋅\\sigma_y ⋅\\sigma_z ⋅p_{xz}  - \\sigmaₓ ⋅\\sigma_y ⋅\\si\n",
       "\n",
       "     2       2          2         2         2\n",
       "gma_z ⋅p_{yz}  + \\sigmaₓ ⋅\\sigma_y ⋅\\sigma_z "
      ]
     },
     "execution_count": 12,
     "metadata": {},
     "output_type": "execute_result"
    }
   ],
   "source": [
    "_.det()"
   ]
  },
  {
   "cell_type": "code",
   "execution_count": 10,
   "metadata": {
    "ExecuteTime": {
     "end_time": "2021-03-14T10:54:39.796477Z",
     "start_time": "2021-03-14T10:54:38.986487Z"
    }
   },
   "outputs": [
    {
     "data": {
      "image/png": "[encoded data removed]",
      "text/latex": [
       "$\\displaystyle - \\frac{1}{p_{xy}^{2} - 2 p_{xy} p_{xz} p_{yz} + p_{xz}^{2} + p_{yz}^{2} - 1}$"
      ],
      "text/plain": [
       "                          -1                            \n",
       "────────────────────────────────────────────────────────\n",
       "      2                                  2         2    \n",
       "p_{xy}  - 2⋅p_{xy}⋅p_{xz}⋅p_{yz} + p_{xz}  + p_{yz}  - 1"
      ]
     },
     "execution_count": 10,
     "metadata": {},
     "output_type": "execute_result"
    }
   ],
   "source": [
    "RHOS.inv().det()"
   ]
  },
  {
   "cell_type": "code",
   "execution_count": 1,
   "metadata": {
    "ExecuteTime": {
     "end_time": "2021-03-14T10:50:23.011441Z",
     "start_time": "2021-03-14T10:50:21.575208Z"
    }
   },
   "outputs": [],
   "source": [
    "import tensorflow as tf"
   ]
  },
  {
   "cell_type": "code",
   "execution_count": 17,
   "metadata": {
    "ExecuteTime": {
     "end_time": "2021-03-14T10:59:53.427487Z",
     "start_time": "2021-03-14T10:59:53.101914Z"
    }
   },
   "outputs": [
    {
     "data": {
      "text/latex": [
       "$\\displaystyle \\left[\\begin{matrix}\\frac{p_{yz}^{2} - 1}{\\sigma_x^{2} \\left(p_{xy}^{2} - 2 p_{xy} p_{xz} p_{yz} + p_{xz}^{2} + p_{yz}^{2} - 1\\right)} & \\frac{p_{xy} - p_{xz} p_{yz}}{\\sigma_x \\sigma_y \\left(p_{xy}^{2} - 2 p_{xy} p_{xz} p_{yz} + p_{xz}^{2} + p_{yz}^{2} - 1\\right)} & - \\frac{p_{xy} p_{yz} - p_{xz}}{\\sigma_x \\sigma_z \\left(p_{xy}^{2} - 2 p_{xy} p_{xz} p_{yz} + p_{xz}^{2} + p_{yz}^{2} - 1\\right)}\\\\\\frac{p_{xy} - p_{xz} p_{yz}}{\\sigma_x \\sigma_y \\left(p_{xy}^{2} - 2 p_{xy} p_{xz} p_{yz} + p_{xz}^{2} + p_{yz}^{2} - 1\\right)} & \\frac{p_{xz}^{2} - 1}{\\sigma_y^{2} \\left(p_{xy}^{2} - 2 p_{xy} p_{xz} p_{yz} + p_{xz}^{2} + p_{yz}^{2} - 1\\right)} & - \\frac{p_{xy} p_{xz} - p_{yz}}{\\sigma_y \\sigma_z \\left(p_{xy}^{2} - 2 p_{xy} p_{xz} p_{yz} + p_{xz}^{2} + p_{yz}^{2} - 1\\right)}\\\\- \\frac{p_{xy} p_{yz} - p_{xz}}{\\sigma_x \\sigma_z \\left(p_{xy}^{2} - 2 p_{xy} p_{xz} p_{yz} + p_{xz}^{2} + p_{yz}^{2} - 1\\right)} & - \\frac{p_{xy} p_{xz} - p_{yz}}{\\sigma_y \\sigma_z \\left(p_{xy}^{2} - 2 p_{xy} p_{xz} p_{yz} + p_{xz}^{2} + p_{yz}^{2} - 1\\right)} & \\frac{p_{xy}^{2} - 1}{\\sigma_z^{2} \\left(p_{xy}^{2} - 2 p_{xy} p_{xz} p_{yz} + p_{xz}^{2} + p_{yz}^{2} - 1\\right)}\\end{matrix}\\right]$"
      ],
      "text/plain": [
       "⎡                                      2                                      \n",
       "⎢                                p_{yz}  - 1                                  \n",
       "⎢    ───────────────────────────────────────────────────────────────────      \n",
       "⎢           2 ⎛      2                                  2         2    ⎞      \n",
       "⎢    \\sigmaₓ ⋅⎝p_{xy}  - 2⋅p_{xy}⋅p_{xz}⋅p_{yz} + p_{xz}  + p_{yz}  - 1⎠      \n",
       "⎢                                                                             \n",
       "⎢                                                                             \n",
       "⎢                           p_{xy} - p_{xz}⋅p_{yz}                            \n",
       "⎢───────────────────────────────────────────────────────────────────────────  \n",
       "⎢                 ⎛      2                                  2         2    ⎞  \n",
       "⎢\\sigmaₓ⋅\\sigma_y⋅⎝p_{xy}  - 2⋅p_{xy}⋅p_{xz}⋅p_{yz} + p_{xz}  + p_{yz}  - 1⎠  \n",
       "⎢                                                                             \n",
       "⎢                                                                             \n",
       "⎢                         -(p_{xy}⋅p_{yz} - p_{xz})                           \n",
       "⎢───────────────────────────────────────────────────────────────────────────  \n",
       "⎢                 ⎛      2                                  2         2    ⎞  \n",
       "⎣\\sigmaₓ⋅\\sigma_z⋅⎝p_{xy}  - 2⋅p_{xy}⋅p_{xz}⋅p_{yz} + p_{xz}  + p_{yz}  - 1⎠  \n",
       "\n",
       "                                                                              \n",
       "                           p_{xy} - p_{xz}⋅p_{yz}                             \n",
       "───────────────────────────────────────────────────────────────────────────   \n",
       "                 ⎛      2                                  2         2    ⎞   \n",
       "\\sigmaₓ⋅\\sigma_y⋅⎝p_{xy}  - 2⋅p_{xy}⋅p_{xz}⋅p_{yz} + p_{xz}  + p_{yz}  - 1⎠   \n",
       "                                                                              \n",
       "                                      2                                       \n",
       "                                p_{xz}  - 1                                   \n",
       "    ────────────────────────────────────────────────────────────────────      \n",
       "            2 ⎛      2                                  2         2    ⎞      \n",
       "    \\sigma_y ⋅⎝p_{xy}  - 2⋅p_{xy}⋅p_{xz}⋅p_{yz} + p_{xz}  + p_{yz}  - 1⎠      \n",
       "                                                                              \n",
       "                                                                              \n",
       "                         -(p_{xy}⋅p_{xz} - p_{yz})                            \n",
       "────────────────────────────────────────────────────────────────────────────  \n",
       "                  ⎛      2                                  2         2    ⎞  \n",
       "\\sigma_y⋅\\sigma_z⋅⎝p_{xy}  - 2⋅p_{xy}⋅p_{xz}⋅p_{yz} + p_{xz}  + p_{yz}  - 1⎠  \n",
       "\n",
       "                                                                            ⎤\n",
       "                         -(p_{xy}⋅p_{yz} - p_{xz})                          ⎥\n",
       "─────────────────────────────────────────────────────────────────────────── ⎥\n",
       "                 ⎛      2                                  2         2    ⎞ ⎥\n",
       "\\sigmaₓ⋅\\sigma_z⋅⎝p_{xy}  - 2⋅p_{xy}⋅p_{xz}⋅p_{yz} + p_{xz}  + p_{yz}  - 1⎠ ⎥\n",
       "                                                                            ⎥\n",
       "                                                                            ⎥\n",
       "                         -(p_{xy}⋅p_{xz} - p_{yz})                          ⎥\n",
       "────────────────────────────────────────────────────────────────────────────⎥\n",
       "                  ⎛      2                                  2         2    ⎞⎥\n",
       "\\sigma_y⋅\\sigma_z⋅⎝p_{xy}  - 2⋅p_{xy}⋅p_{xz}⋅p_{yz} + p_{xz}  + p_{yz}  - 1⎠⎥\n",
       "                                                                            ⎥\n",
       "                                      2                                     ⎥\n",
       "                                p_{xy}  - 1                                 ⎥\n",
       "    ────────────────────────────────────────────────────────────────────    ⎥\n",
       "            2 ⎛      2                                  2         2    ⎞    ⎥\n",
       "    \\sigma_z ⋅⎝p_{xy}  - 2⋅p_{xy}⋅p_{xz}⋅p_{yz} + p_{xz}  + p_{yz}  - 1⎠    ⎦"
      ]
     },
     "execution_count": 17,
     "metadata": {},
     "output_type": "execute_result"
    }
   ],
   "source": [
    "SIGS.inv() @ RHOS.inv() @ SIGS.inv()"
   ]
  },
  {
   "cell_type": "code",
   "execution_count": 19,
   "metadata": {
    "ExecuteTime": {
     "end_time": "2021-03-14T11:00:09.683750Z",
     "start_time": "2021-03-14T11:00:08.510685Z"
    }
   },
   "outputs": [],
   "source": [
    "(SIGS @ RHOS @ SIGS).inv().simplify()"
   ]
  },
  {
   "cell_type": "code",
   "execution_count": null,
   "metadata": {},
   "outputs": [],
   "source": []
  }
 ],
 "metadata": {
  "kernelspec": {
   "display_name": "Python 3",
   "language": "python",
   "name": "python3"
  },
  "language_info": {
   "codemirror_mode": {
    "name": "ipython",
    "version": 3
   },
   "file_extension": ".py",
   "mimetype": "text/x-python",
   "name": "python",
   "nbconvert_exporter": "python",
   "pygments_lexer": "ipython3",
   "version": "3.8.5"
  }
 },
 "nbformat": 4,
 "nbformat_minor": 4
}
