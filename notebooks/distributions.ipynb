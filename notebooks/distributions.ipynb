{
 "metadata": {
  "language_info": {
   "codemirror_mode": {
    "name": "ipython",
    "version": 3
   },
   "file_extension": ".py",
   "mimetype": "text/x-python",
   "name": "python",
   "nbconvert_exporter": "python",
   "pygments_lexer": "ipython3",
   "version": "3.8.8"
  },
  "orig_nbformat": 2,
  "kernelspec": {
   "name": "python388jvsc74a57bd0b64461b38dacfc828afe8753071a7e18d698b6387239835fe5e37599ffd53b60",
   "display_name": "Python 3.8.8 64-bit ('tf': conda)"
  },
  "metadata": {
   "interpreter": {
    "hash": "b64461b38dacfc828afe8753071a7e18d698b6387239835fe5e37599ffd53b60"
   }
  }
 },
 "nbformat": 4,
 "nbformat_minor": 2,
 "cells": [
  {
   "cell_type": "code",
   "execution_count": null,
   "metadata": {},
   "outputs": [],
   "source": [
    "import numpy as np \n",
    "import pandas as pd \n",
    "import matplotlib.pyplot as plt \n",
    "import sqlite3, os, sys, pickle\n",
    "import os.path as osp \n",
    "\n"
   ]
  },
  {
   "cell_type": "code",
   "execution_count": null,
   "metadata": {},
   "outputs": [],
   "source": [
    "path = \"/groups/hep/johannbs/data/rasmus_classification_muon_3neutrino_3mio.db\"\n",
    "transform = \"/groups/hep/johannbs/data/transformers2.pkl\"\n",
    "with sqlite3.connect(path) as conn:\n",
    "    targets = pd.read_sql(\"select * from truth where abs(pid) = 13\", conn)"
   ]
  },
  {
   "cell_type": "code",
   "execution_count": null,
   "metadata": {},
   "outputs": [],
   "source": [
    "transformers = pickle.load(open(transform, \"rb\"))\n",
    "transformers[\"truth\"].keys()"
   ]
  },
  {
   "cell_type": "code",
   "execution_count": null,
   "metadata": {},
   "outputs": [],
   "source": [
    "for col in targets.columns:\n",
    "    if col in transformers[\"truth\"].keys():\n",
    "        targets[col] = transformers[\"truth\"][col].inverse_transform(np.array(targets[col]).reshape(1, -1)).T"
   ]
  },
  {
   "cell_type": "code",
   "execution_count": null,
   "metadata": {},
   "outputs": [],
   "source": [
    "targets.hist(\"azimuth\", bins = 100)"
   ]
  },
  {
   "cell_type": "code",
   "execution_count": null,
   "metadata": {},
   "outputs": [],
   "source": [
    "fig, ax = plt.subplots(figsize = (4, 9), nrows = 3)\n",
    "ax = ax.flatten()\n",
    "\n",
    "fig.suptitle(\"MuonGun Distributions\")\n",
    "\n",
    "ax = ax[0]\n",
    "ax.hist(targets.energy_log10, bins = 100, histtype = \"step\")\n",
    "ax.set_title(r\"Energy $\\log_{10}$ Distribution\")\n",
    "ax.set_xlabel(r\"$\\log_{10}(E)$\")\n",
    "ax.set_ylabel(\"Frequency\")\n",
    "\n",
    "\n",
    "ax = ax[1]\n",
    "ax.hist(targets.azimuth, bins = 100, histtype = \"step\")\n",
    "ax.set_title(\"Azimuth Distribution\")\n",
    "ax.set_xlabel(\"Azumuth [rad]\")\n",
    "ax.set_ylabel(\"Frequency\")\n",
    "\n",
    "ax = ax[2]\n",
    "ax.hist(targets.zenith, bins = 100, histtype = \"step\")\n",
    "ax.set_title(\"Zenith Distribution\")\n",
    "ax.set_xlabel(\"Zenith [rad]\")\n",
    "ax.set_ylabel(\"Frequency\")"
   ]
  },
  {
   "cell_type": "code",
   "execution_count": null,
   "metadata": {},
   "outputs": [],
   "source": []
  }
 ]
}