{
 "metadata": {
  "language_info": {
   "codemirror_mode": {
    "name": "ipython",
    "version": 3
   },
   "file_extension": ".py",
   "mimetype": "text/x-python",
   "name": "python",
   "nbconvert_exporter": "python",
   "pygments_lexer": "ipython3",
   "version": "3.8.8"
  },
  "orig_nbformat": 2,
  "kernelspec": {
   "name": "python388jvsc74a57bd0b64461b38dacfc828afe8753071a7e18d698b6387239835fe5e37599ffd53b60",
   "display_name": "Python 3.8.8 64-bit ('tf': conda)"
  },
  "metadata": {
   "interpreter": {
    "hash": "b64461b38dacfc828afe8753071a7e18d698b6387239835fe5e37599ffd53b60"
   }
  }
 },
 "nbformat": 4,
 "nbformat_minor": 2,
 "cells": [
  {
   "cell_type": "code",
   "execution_count": 3,
   "metadata": {},
   "outputs": [],
   "source": [
    "import numpy as np \n",
    "import pandas as pd \n",
    "import matplotlib.pyplot as plt \n",
    "import os, pickle, sys, sqlite3\n",
    "import os.path as osp "
   ]
  },
  {
   "cell_type": "code",
   "execution_count": 30,
   "metadata": {},
   "outputs": [
    {
     "output_type": "stream",
     "name": "stdout",
     "text": [
      "   row   event_no  string  dom  pmt    dom_x     dom_y     dom_z  pmt_x  \\\n0    1  120102888      14   31    0 -1.84429 -1.224824  0.397924    0.0   \n\n   pmt_y  pmt_z  pmt_area  pmt_type      time  charge_log10  lc  pulse_width  \\\n0    0.0   -1.0    0.0444        20 -1.564283      0.162615   0            8   \n\n   SplitInIcePulses  SRTInIcePulses  \n0                 1               0  \n"
     ]
    }
   ],
   "source": [
    "muon_gun_path = \"/groups/hep/johannbs/data/rasmus_classification_muon_3neutrino_3mio.db\"\n",
    "with sqlite3.connect(muon_gun_path) as conn:\n",
    "    # event_ids_muons = pd.read_sql(\"select event_no from truth where abs(pid) = 13\", conn)\n",
    "    print(pd.read_sql(\"select * from features limit 1\", conn))"
   ]
  },
  {
   "cell_type": "code",
   "execution_count": 21,
   "metadata": {},
   "outputs": [],
   "source": [
    "from sklearn.model_selection import train_test_split\n",
    "\n",
    "\n",
    "train_events, test_events = train_test_split(event_ids_muons, test_size = 0.15)\n"
   ]
  },
  {
   "cell_type": "code",
   "execution_count": 25,
   "metadata": {},
   "outputs": [],
   "source": [
    "model_training, ensemble_training = train_events[: len(train_events) // 3 * 2], train_events[len(train_events) // 3:]"
   ]
  },
  {
   "cell_type": "code",
   "execution_count": 28,
   "metadata": {},
   "outputs": [],
   "source": [
    "model_dict     = {'train': model_training, 'test':test_events}\n",
    "enbsemble_dict = {'train': ensemble_training, \"test\":test_events}\n",
    "\n",
    "pd.to_pickle(model_dict, \"../../data/muongun_model_training.dat\")\n",
    "pd.to_pickle(enbsemble_dict, \"../../data/muongun_model_validation.dat\")"
   ]
  },
  {
   "cell_type": "code",
   "execution_count": null,
   "metadata": {},
   "outputs": [],
   "source": []
  }
 ]
}