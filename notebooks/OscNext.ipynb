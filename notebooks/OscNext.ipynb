{
 "cells": [
  {
   "cell_type": "code",
   "execution_count": 1,
   "metadata": {},
   "outputs": [
    {
     "output_type": "stream",
     "name": "stdout",
     "text": [
      "The history saving thread hit an unexpected error (OperationalError('database is locked')).History will not be written to the database.\n"
     ]
    }
   ],
   "source": [
    "import numpy as np\n",
    "import matplotlib.pyplot as plt\n",
    "import pandas as pd\n",
    "\n",
    "import os, sys, pickle\n",
    "import os.path as osp\n",
    "\n",
    "sys.path.append(osp.join(os.getcwd(), \"..\", \"scripts\"))\n",
    "from test_script import azi_zen_from_units, performance"
   ]
  },
  {
   "cell_type": "code",
   "execution_count": 2,
   "metadata": {},
   "outputs": [],
   "source": [
    "test_file = osp.join(os.getcwd(), \"..\", \"test_folder\", \"bn_32.dat\")"
   ]
  },
  {
   "cell_type": "code",
   "execution_count": 4,
   "metadata": {},
   "outputs": [
    {
     "output_type": "execute_result",
     "data": {
      "text/plain": [
       "{'id': array([7.13098800e+06, 7.13099200e+06, 7.13100500e+06, ...,\n",
       "        1.17104750e+08, 1.17104752e+08, 1.17104758e+08]),\n",
       " 'reco': array([[ 0.01353264, -0.018438  ,  3.0301945 ,  3.5352504 ],\n",
       "        [ 0.01403463, -0.01865924,  3.0299947 ,  3.535473  ],\n",
       "        [ 0.0129098 , -0.0183493 ,  3.0325053 ,  3.5350718 ],\n",
       "        ...,\n",
       "        [ 0.01532913, -0.01887851,  3.0227315 ,  3.5350287 ],\n",
       "        [ 0.01752369, -0.019349  ,  3.0150142 ,  3.532314  ],\n",
       "        [ 0.01353998, -0.01787656,  3.0223832 ,  3.5335603 ]],\n",
       "       dtype=float32),\n",
       " 'targets': array([[-0.21015474,  0.8438544 ,  0.49370503],\n",
       "        [ 0.1735713 ,  0.53755957,  0.82516825],\n",
       "        [-0.02056884, -0.9864993 , -0.1624681 ],\n",
       "        ...,\n",
       "        [-0.25597286, -0.75487983,  0.60384965],\n",
       "        [-0.01274581,  0.817685  ,  0.57552475],\n",
       "        [-0.06072836, -0.773598  ,  0.63075995]], dtype=float32),\n",
       " 'Ns': array([10,  8,  8, ..., 14, 17, 28], dtype=int32),\n",
       " 'metrics': {'energy_w': 0.7479438185691833,\n",
       "  'zenith_u_from_angles': 39.82298278808594,\n",
       "  'energy_sigma_mean': 0.5751874446868896,\n",
       "  'mean_zenith_std_e': 33.50839614868164,\n",
       "  'TestLoss': -0.28789642}}"
      ]
     },
     "metadata": {},
     "execution_count": 4
    }
   ],
   "source": [
    "pd.read_pickle(test_file)"
   ]
  },
  {
   "cell_type": "code",
   "execution_count": null,
   "metadata": {},
   "outputs": [],
   "source": []
  }
 ],
 "metadata": {
  "kernelspec": {
   "name": "python388jvsc74a57bd0b64461b38dacfc828afe8753071a7e18d698b6387239835fe5e37599ffd53b60",
   "display_name": "Python 3.8.8 64-bit ('tf': conda)"
  },
  "language_info": {
   "codemirror_mode": {
    "name": "ipython",
    "version": 3
   },
   "file_extension": ".py",
   "mimetype": "text/x-python",
   "name": "python",
   "nbconvert_exporter": "python",
   "pygments_lexer": "ipython3",
   "version": "3.8.8"
  },
  "metadata": {
   "interpreter": {
    "hash": "b64461b38dacfc828afe8753071a7e18d698b6387239835fe5e37599ffd53b60"
   }
  }
 },
 "nbformat": 4,
 "nbformat_minor": 4
}